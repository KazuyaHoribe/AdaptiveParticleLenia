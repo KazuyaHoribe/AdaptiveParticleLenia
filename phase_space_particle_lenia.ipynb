{
  "nbformat": 4,
  "nbformat_minor": 0,
  "metadata": {
    "colab": {
      "provenance": [],
      "authorship_tag": "ABX9TyPK2xX37AGpe4WTxGzAh/kD",
      "include_colab_link": true
    },
    "kernelspec": {
      "name": "python3",
      "display_name": "Python 3"
    },
    "language_info": {
      "name": "python"
    },
    "accelerator": "GPU",
    "gpuClass": "premium"
  },
  "cells": [
    {
      "cell_type": "markdown",
      "metadata": {
        "id": "view-in-github",
        "colab_type": "text"
      },
      "source": [
        "<a href=\"https://colab.research.google.com/github/KazuyaHoribe/AdaptiveParticleLenia/blob/main/phase_space_particle_lenia.ipynb\" target=\"_parent\"><img src=\"https://colab.research.google.com/assets/colab-badge.svg\" alt=\"Open In Colab\"/></a>"
      ]
    },
    {
      "cell_type": "code",
      "source": [
        "from google.colab import drive\n",
        "drive.mount('/content/drive')"
      ],
      "metadata": {
        "colab": {
          "base_uri": "https://localhost:8080/"
        },
        "id": "zoKGwi7DYOmS",
        "outputId": "9df575fb-0367-4f51-a99d-4746bf7ad787"
      },
      "execution_count": null,
      "outputs": [
        {
          "output_type": "stream",
          "name": "stdout",
          "text": [
            "Mounted at /content/drive\n"
          ]
        }
      ]
    },
    {
      "cell_type": "code",
      "source": [
        "#@title (imports & utils)\n",
        "import os \n",
        "import io\n",
        "import base64\n",
        "import time\n",
        "from functools import partial\n",
        "from typing import NamedTuple\n",
        "from collections import namedtuple\n",
        "import subprocess\n",
        "\n",
        "import PIL\n",
        "import numpy as np\n",
        "import matplotlib.pylab as pl\n",
        "\n",
        "from IPython.display import display, Image, HTML, clear_output\n",
        "import ipywidgets as widgets\n",
        "\n",
        "import jax\n",
        "import jax.numpy as jp\n",
        "\n",
        "import random\n",
        "\n",
        "def np2pil(a):\n",
        "  if a.dtype in [np.float32, np.float64]:\n",
        "    a = np.uint8(np.clip(a, 0, 1)*255)\n",
        "  return PIL.Image.fromarray(a)\n",
        "\n",
        "def imwrite(f, a, fmt=None):\n",
        "  a = np.asarray(a)\n",
        "  if isinstance(f, str):\n",
        "    fmt = f.rsplit('.', 1)[-1].lower()\n",
        "    if fmt == 'jpg':\n",
        "      fmt = 'jpeg'\n",
        "    f = open(f, 'wb')\n",
        "  np2pil(a).save(f, fmt, quality=95)\n",
        "\n",
        "def imencode(a, fmt='jpeg'):\n",
        "  a = np.asarray(a)\n",
        "  if len(a.shape) == 3 and a.shape[-1] == 4:\n",
        "    fmt = 'png'\n",
        "  f = io.BytesIO()\n",
        "  imwrite(f, a, fmt)\n",
        "  return f.getvalue()\n",
        "\n",
        "def imshow(a, fmt='jpeg', display=display):\n",
        "  return display(Image(data=imencode(a, fmt)))\n",
        "\n",
        "def grab_plot(close=True):\n",
        "  \"\"\"Return the current Matplotlib figure as an image\"\"\"\n",
        "  fig = pl.gcf()\n",
        "  fig.canvas.draw()\n",
        "  img = np.array(fig.canvas.renderer._renderer)\n",
        "  a = np.float32(img[..., 3:]/255.0)\n",
        "  img = np.uint8(255*(1.0-a) + img[...,:3] * a)  # alpha\n",
        "  if close:\n",
        "    pl.close()\n",
        "  return img\n",
        "\n",
        "def show_videofile(fn):\n",
        "  b64 = base64.b64encode(open(fn, 'rb').read()).decode('utf8')\n",
        "  s = f'''<video controls loop>\n",
        " <source src=\"data:video/mp4;base64,{b64}\" type=\"video/mp4\">\n",
        " Your browser does not support the video tag.</video>'''\n",
        "  display(HTML(s))\n",
        "\n",
        "class VideoWriter:\n",
        "  def __init__(self, filename='_tmp.mp4', fps=30.0, show_on_finish=True):\n",
        "    self.ffmpeg = None\n",
        "    self.filename = filename\n",
        "    self.fps = fps\n",
        "    self.view = widgets.Output()\n",
        "    self.last_preview_time = 0.0\n",
        "    self.frame_count = 0\n",
        "    self.show_on_finish = show_on_finish\n",
        "    display(self.view)\n",
        "\n",
        "  def add(self, img):\n",
        "    img = np.asarray(img)\n",
        "    h, w = img.shape[:2]\n",
        "    if self.ffmpeg is None:\n",
        "      self.ffmpeg = self._open(w, h)\n",
        "    if img.dtype in [np.float32, np.float64]:\n",
        "      img = np.uint8(img.clip(0, 1)*255)\n",
        "    if len(img.shape) == 2:\n",
        "      img = np.repeat(img[..., None], 3, -1)\n",
        "    self.ffmpeg.stdin.write(img.tobytes())\n",
        "    t = time.time()\n",
        "    self.frame_count += 1\n",
        "    if self.view and t-self.last_preview_time > 1.0:\n",
        "       self.last_preview_time = t\n",
        "       with self.view:\n",
        "         clear_output(wait=True)\n",
        "         imshow(img)\n",
        "         print(self.frame_count)\n",
        "\n",
        "  def __call__(self, img):\n",
        "    return self.add(img)\n",
        "\n",
        "  def _open(self, w, h):\n",
        "    cmd = f'''ffmpeg -y -f rawvideo -vcodec rawvideo -s {w}x{h}\n",
        "      -pix_fmt rgb24 -r {self.fps} -i - -pix_fmt yuv420p\n",
        "      -c:v libx264 -crf 20 {self.filename}'''.split()\n",
        "    return subprocess.Popen(cmd, stdin=subprocess.PIPE, stderr=subprocess.PIPE)\n",
        "\n",
        "  def close(self):\n",
        "    if self.ffmpeg:\n",
        "        self.ffmpeg.stdin.close()\n",
        "        self.ffmpeg.wait()\n",
        "        self.ffmpeg = None\n",
        "    if self.view:\n",
        "      with self.view:\n",
        "        clear_output()\n",
        "      self.view.close()\n",
        "      self.view = None\n",
        "\n",
        "  def __enter__(self):\n",
        "    return self\n",
        "\n",
        "  def __exit__(self, *kw):\n",
        "    self.close()\n",
        "    if self.show_on_finish:\n",
        "        self.show()\n",
        "\n",
        "  def _ipython_display_(self):\n",
        "    self.show()\n",
        "\n",
        "  def show(self):\n",
        "      self.close()\n",
        "      show_videofile(self.filename)\n",
        "\n",
        "# JAX utils\n",
        "\n",
        "def vmap2(f):\n",
        "  return jax.vmap(jax.vmap(f))\n",
        "\n",
        "def norm(v, axis=-1, keepdims=False, eps=0.0):\n",
        "  return jp.sqrt((v*v).sum(axis, keepdims=keepdims).clip(eps))\n",
        "\n",
        "def normalize(v, axis=-1, eps=1e-20):\n",
        "  return v/norm(v, axis, keepdims=True, eps=eps)\n",
        "\n",
        "\n",
        "pl.rcParams.update({\"axes.grid\" : True})\n",
        "\n",
        "Params = namedtuple('Params', 'mu_k sigma_k w_k mu_g sigma_g c_rep')\n",
        "Fields = namedtuple('Fields', 'U G R E')\n",
        "\n",
        "def peak_f(x, mu, sigma):\n",
        "  return jp.exp(-((x-mu)/sigma)**2)\n",
        "\n",
        "def fields_f(p: Params, points, x):\n",
        "  r = jp.sqrt(jp.square(x-points).sum(-1).clip(1e-10))\n",
        "  U = peak_f(r, p.mu_k, p.sigma_k).sum()*p.w_k\n",
        "  G = peak_f(U, p.mu_g, p.sigma_g)\n",
        "  R = p.c_rep/2 * ((1.0-r).clip(0.0)**2).sum()\n",
        "  return Fields(U, G, R, E=R-G)\n",
        "\n",
        "def motion_f(params, points):\n",
        "  grad_E = jax.grad(lambda x : fields_f(params, points, x).E)\n",
        "  return -jax.vmap(grad_E)(points)\n",
        "\n",
        "def point_fields_f(params, points):\n",
        "  return jax.vmap(partial(fields_f, params, points))(points)\n",
        "\n",
        "def total_energy_f(params, points):\n",
        "  return point_fields_f(params, points).E.sum()/len(points0)"
      ],
      "metadata": {
        "cellView": "form",
        "id": "xOdbe17pX8kC"
      },
      "execution_count": null,
      "outputs": []
    },
    {
      "cell_type": "code",
      "source": [
        "#@title (show_lenia)\n",
        "import PIL.ImageFont, PIL.ImageDraw\n",
        "\n",
        "def lerp(x, a, b):\n",
        "  return jp.float32(a)*(1.0-x) + jp.float32(b)*x\n",
        "def cmap_e(e):\n",
        "  return 1.0-jp.stack([e, -e], -1).clip(0) @ jp.float32([[0.3,1,1], [1,0.3,1]])\n",
        "def cmap_ug(u, g):\n",
        "  vis = lerp(u[...,None], [0.1,0.1,0.3], [0.2,0.7,1.0])\n",
        "  return lerp(g[...,None], vis, [1.17,0.91,0.13])\n",
        "\n",
        "@partial(jax.jit, static_argnames=['w', 'show_UG', 'show_cmap'])\n",
        "def show_lenia(params, points, extent, w=400, show_UG=False, show_cmap=True):\n",
        "  xy = jp.mgrid[-1:1:w*1j, -1:1:w*1j].T*extent\n",
        "  e0 = -peak_f(0.0, params.mu_g, params.sigma_g)\n",
        "  f = partial(fields_f, params, points)\n",
        "  fields = vmap2(f)(xy)\n",
        "  r2 = jp.square(xy[...,None,:]-points).sum(-1).min(-1)\n",
        "  points_mask = (r2/0.02).clip(0, 1.0)[...,None]\n",
        "  vis = cmap_e(fields.E-e0) * points_mask\n",
        "  if show_cmap:\n",
        "    e_mean = jax.vmap(f)(points).E.mean()\n",
        "    bar = np.r_[0.5:-0.5:w*1j]\n",
        "    bar = cmap_e(bar) * (1.0-peak_f(bar, e_mean-e0, 0.005)[:,None])\n",
        "    vis = jp.hstack([vis, bar[:,None].repeat(16, 1)])\n",
        "  if show_UG:\n",
        "    vis_u = cmap_ug(fields.U, fields.G)*points_mask\n",
        "    if show_cmap:\n",
        "      u = np.r_[1:0:w*1j]\n",
        "      bar = cmap_ug(u, peak_f(u, params.mu_g, params.sigma_g))\n",
        "      bar = bar[:,None].repeat(16, 1)\n",
        "      vis_u = jp.hstack([bar, vis_u])\n",
        "    vis = jp.hstack([vis_u, vis])\n",
        "  return vis\n",
        "\n",
        "fontpath = pl.matplotlib.get_data_path()+'/fonts/ttf/DejaVuSansMono.ttf'\n",
        "pil_font = PIL.ImageFont.truetype(fontpath, size=16)\n",
        "\n",
        "def text_overlay(img, text, pos=(20,10), color=(255,255,255)):\n",
        "  img = np2pil(img)\n",
        "  draw = PIL.ImageDraw.Draw(img)\n",
        "  draw.text(pos, text, fill=color, font=pil_font)\n",
        "  return img\n",
        "\n",
        "def animate_lenia(params, tracks, rate=10, slow_start=0, w=600, show_UG=True,\n",
        "                  name='_tmp.mp4', text=None, vid=None, bar_len=None,\n",
        "                  bar_ofs=0, extent=None):\n",
        "  if vid is None:\n",
        "    vid = VideoWriter(fps=60, filename=name)\n",
        "  if extent is None:\n",
        "    extent = jp.abs(tracks).max()*1.2\n",
        "  if bar_len is None:\n",
        "    bar_len = len(tracks)\n",
        "  for i, points in enumerate(tracks):\n",
        "    if not (i<slow_start or i%rate==0):\n",
        "      continue\n",
        "    img = show_lenia(params, points, extent, w=w, show_UG=show_UG)\n",
        "    bar = np.linspace(0, bar_len, img.shape[1])\n",
        "    bar = (0.5+(bar>=i+bar_ofs)[:,None]*jp.ones(3)*0.5)[None].repeat(2, 0)\n",
        "    frame = jp.vstack([img, bar])\n",
        "    if text is not None:\n",
        "      frame = text_overlay(frame, text)\n",
        "    vid(frame)\n",
        "  return vid"
      ],
      "metadata": {
        "cellView": "form",
        "id": "5ZArhHShYKfK"
      },
      "execution_count": null,
      "outputs": []
    },
    {
      "cell_type": "code",
      "source": [
        "params = Params(mu_k=4.0, sigma_k=1.0, w_k=0.022, mu_g=0.6, sigma_g=0.3, c_rep=1.0)\n",
        "key = jax.random.PRNGKey(20)\n",
        "#points00 = (jax.random.uniform(key, [100, 2]))*15.0\n",
        "#points01 = (jax.random.uniform(key, [100, 2])-1.0)*15.0\n",
        "#points0 = jp.concatenate([points00 , points01])\n",
        "points0 = (jax.random.uniform(key, [200, 2])-0.5)*12.0\n",
        "\n",
        "print(len(points0))\n",
        "dt = 0.01\n",
        "\n",
        "def odeint_euler(f, params, x0, dt, n):\n",
        "  def step_f(x, _):\n",
        "    x = x+dt*f(params, x)\n",
        "    return x, x\n",
        "  return jax.lax.scan(step_f, x0, None, n)[1]\n",
        "\n",
        "def odeint_rk4(f, params, x0, dt, n):\n",
        "    def step_f(x, _):\n",
        "        k1 = dt * f(params, x)\n",
        "        k2 = dt * f(params, x + k1 / 2)\n",
        "        k3 = dt * f(params, x + k2 / 2)\n",
        "        k4 = dt * f(params, x + k3)\n",
        "        x = x + (k1 + 2 * k2 + 2 * k3 + k4) / 6\n",
        "        return x, x\n",
        "    return jax.lax.scan(step_f, x0, None, n)[1]"
      ],
      "metadata": {
        "colab": {
          "base_uri": "https://localhost:8080/"
        },
        "id": "XyBwM_OTbm0v",
        "outputId": "117d166b-c3d8-4716-bb56-39a69adcdcd1"
      },
      "execution_count": null,
      "outputs": [
        {
          "output_type": "stream",
          "name": "stdout",
          "text": [
            "200\n"
          ]
        }
      ]
    },
    {
      "cell_type": "code",
      "source": [
        "#@title (save data)\n",
        "def run_key(key):\n",
        "  points0 = (jax.random.uniform(key, [200, 2])-0.5)*12.0\n",
        "  #story0 = odeint_euler(motion_f, params, points0, dt, 4000)\n",
        "  story0 = odeint_rk4(motion_f, params, points0, dt, 40000)\n",
        "  story0 = story0[::10] # 間引く\n",
        "  #print(story0.shape)\n",
        "  new = jp.multiply(story0[-1], jp.array([2, 1]))\n",
        "  #print(new.shape)\n",
        "  # それを初期値として計算を再開する\n",
        "  #story1 = odeint_euler(motion_f, params, new, dt, 6000)\n",
        "  story1 = odeint_rk4(motion_f, params, new, dt, 60000)\n",
        "  story1 = story1[::10]\n",
        "  log0 = jax.lax.map(partial(total_energy_f, params), story0)\n",
        "  log1 = jax.lax.map(partial(total_energy_f, params), story1)\n",
        "  log = jp.concatenate([log0, log1])\n",
        "  return story0, story1, log\n",
        "\n",
        "def save_fig(folder_path, stories0, stories1, logs):\n",
        "  pl.figure(figsize=(12, 4))\n",
        "  pl.gca().yaxis.tick_right()\n",
        "  pl.tick_params(labelright=True)\n",
        "  #pl.title('100 simulations')\n",
        "  pl.plot(logs.T, alpha=0.2, color='grey');\n",
        "  pl.xlabel('time step')\n",
        "  pl.ylabel('total energy')\n",
        "  pl.rcParams[\"font.size\"] = 18\n",
        "\n",
        "  #pl.ylim(logs.min()-10, 10);\n",
        "  imgs0 = []\n",
        "  imgs1 = []\n",
        "  imgs2 = []\n",
        "  for i in [1,2,3]:\n",
        "  #for i in [8, 17, 52, 81, 30, 2, 29, 43]:\n",
        "    e = logs[i]\n",
        "    pl.plot(e)\n",
        "    #pl.legend()\n",
        "\n",
        "    img0 = show_lenia(params, stories0[i, -1], 18.0, w=242, show_cmap=False)\n",
        "    img1 = show_lenia(params, stories1[i, 0], 18.0, w=242, show_cmap=False)\n",
        "    img2 = show_lenia(params, stories1[i, -1], 18.0, w=242, show_cmap=False)\n",
        "    imgs0.append(np.array(text_overlay(img0, \"E=%.2f\"%e[4000-1], color='black')))\n",
        "    imgs1.append(np.array(text_overlay(img1, \"E=%.2f\"%e[4000], color='black')))\n",
        "    imgs2.append(np.array(text_overlay(img2, \"E=%.2f\"%e[-1], color='black')))\n",
        "  pl.savefig(folder_path + '/total_energy.png', bbox_inches='tight', pad_inches=0)\n",
        "  pl.show()\n",
        "\n",
        "  fig, ax = pl.subplots(figsize=(16, 4))\n",
        "  pl.imshow(np.hstack(imgs0))\n",
        "  pl.axis('off')\n",
        "  pl.savefig(folder_path + '/before.png', bbox_inches='tight', pad_inches=0)\n",
        "\n",
        "  fig, ax = pl.subplots(figsize=(16, 4))\n",
        "  pl.imshow(np.hstack(imgs1))\n",
        "  pl.axis('off')\n",
        "  pl.savefig(folder_path +'/strech.png', bbox_inches='tight', pad_inches=0)\n",
        "\n",
        "  fig, ax = pl.subplots(figsize=(16, 4))\n",
        "  pl.imshow(np.hstack(imgs2))\n",
        "  pl.axis('off')\n",
        "  pl.savefig(folder_path+'/after.png', bbox_inches='tight', pad_inches=0)\n"
      ],
      "metadata": {
        "id": "N664GCBS5WHP"
      },
      "execution_count": null,
      "outputs": []
    },
    {
      "cell_type": "code",
      "source": [
        "nums = np.arange(2.0, 3.0, 0.1)\n",
        "for i in nums:\n",
        "  folder_path = f\"/content/drive/MyDrive/alife2023/mu_g0.6_sigma_g0.15_c_rep{i:.2f}\"\n",
        "  if not os.path.isdir(folder_path):\n",
        "    os.makedirs(folder_path)\n",
        "  params = Params(mu_k=4.0, sigma_k=1.0, w_k=0.022, mu_g=0.6, sigma_g=0.15, c_rep=i)\n",
        "  stories0, stories1, logs = jax.vmap(run_key)(jax.random.split(key, 100))\n",
        "  jp.save(folder_path+\"/stories0.npy\", stories0)\n",
        "  jp.save(folder_path+\"/stories1.npy\", stories1)\n",
        "  jp.save(folder_path + \"/logs.npy\", logs)\n",
        "  save_fig(folder_path, stories0, stories1, logs)"
      ],
      "metadata": {
        "id": "4vByIOK74Tzw"
      },
      "execution_count": null,
      "outputs": []
    },
    {
      "cell_type": "code",
      "execution_count": null,
      "metadata": {
        "id": "LijTMMb0XxJM"
      },
      "outputs": [],
      "source": [
        "#@title (ensemble)\n",
        "#params = Params(mu_k=4.0, sigma_k=1.0, w_k=0.022, mu_g=0.6, sigma_g=0.15, c_rep=1.0) # original\n",
        "params = Params(mu_k=4.0, sigma_k=1.0, w_k=0.022, mu_g=0.6, sigma_g=0.15, c_rep=1.0)\n",
        "def run_key(key):\n",
        "  points0 = (jax.random.uniform(key, [200, 2])-0.5)*12.0\n",
        "  #story0 = odeint_euler(motion_f, params, points0, dt, 4000)\n",
        "  story0 = odeint_rk4(motion_f, params, points0, dt, 40000)\n",
        "  story0 = story0[::10] # 間引く\n",
        "  #print(story0.shape)\n",
        "  new = jp.multiply(story0[-1], jp.array([2, 1]))\n",
        "  #print(new.shape)\n",
        "  # それを初期値として計算を再開する\n",
        "  #story1 = odeint_euler(motion_f, params, new, dt, 6000)\n",
        "  story1 = odeint_rk4(motion_f, params, new, dt, 60000)\n",
        "  story1 = story1[::10]\n",
        "  log0 = jax.lax.map(partial(total_energy_f, params), story0)\n",
        "  log1 = jax.lax.map(partial(total_energy_f, params), story1)\n",
        "  log = jp.concatenate([log0, log1])\n",
        "  return story0, story1, log\n",
        "stories0, stories1, logs = jax.vmap(run_key)(jax.random.split(key, 100))\n",
        "jp.save(\"/content/drive/MyDrive/alife2023/stories0.npy\", stories0)\n",
        "jp.save(\"/content/drive/MyDrive/alife2023/stories1.npy\", stories1)\n",
        "jp.save(\"/content/drive/MyDrive/alife2023/logs.npy\", logs)\n",
        "\n",
        "pl.figure(figsize=(12, 4))\n",
        "pl.gca().yaxis.tick_right()\n",
        "pl.tick_params(labelright=True)\n",
        "#pl.title('100 simulations')\n",
        "pl.plot(logs.T, alpha=0.2, color='grey');\n",
        "pl.xlabel('time step')\n",
        "pl.ylabel('total energy')\n",
        "pl.rcParams[\"font.size\"] = 18\n",
        "\n",
        "#pl.ylim(logs.min()-10, 10);\n",
        "imgs0 = []\n",
        "imgs1 = []\n",
        "imgs2 = []\n",
        "#for i in [1,2,3]:\n",
        "for i in [8, 17, 52, 81, 30, 2, 29, 43]:\n",
        "  e = logs[i]\n",
        "  pl.plot(e)\n",
        "  #pl.legend()\n",
        "\n",
        "  img0 = show_lenia(params, stories0[i, -1], 18.0, w=242, show_cmap=False)\n",
        "  img1 = show_lenia(params, stories1[i, 0], 18.0, w=242, show_cmap=False)\n",
        "  img2 = show_lenia(params, stories1[i, -1], 18.0, w=242, show_cmap=False)\n",
        "  imgs0.append(np.array(text_overlay(img0, \"E=%.2f\"%e[8000-1], color='black')))\n",
        "  imgs1.append(np.array(text_overlay(img1, \"E=%.2f\"%e[8000], color='black')))\n",
        "  imgs2.append(np.array(text_overlay(img2, \"E=%.2f\"%e[-1], color='black')))\n",
        "pl.savefig('/content/drive/MyDrive/alife2023/total_energy.png', bbox_inches='tight', pad_inches=0)\n",
        "pl.show()\n",
        "\n",
        "fig, ax = pl.subplots(figsize=(16, 4))\n",
        "pl.imshow(np.hstack(imgs0))\n",
        "pl.axis('off')\n",
        "pl.savefig('/content/drive/MyDrive/alife2023/before.png', bbox_inches='tight', pad_inches=0)\n",
        "\n",
        "fig, ax = pl.subplots(figsize=(16, 4))\n",
        "pl.imshow(np.hstack(imgs1))\n",
        "pl.axis('off')\n",
        "pl.savefig('/content/drive/MyDrive/alife2023/strech.png', bbox_inches='tight', pad_inches=0)\n",
        "\n",
        "fig, ax = pl.subplots(figsize=(16, 4))\n",
        "pl.imshow(np.hstack(imgs2))\n",
        "pl.axis('off')\n",
        "pl.savefig('/content/drive/MyDrive/alife2023/after.png', bbox_inches='tight', pad_inches=0)\n",
        "\n",
        "#imshow(np.hstack(imgs0))\n",
        "#imshow(np.hstack(imgs1))\n",
        "#imshow(np.hstack(imgs2))"
      ]
    },
    {
      "cell_type": "code",
      "source": [
        "stories1.shape"
      ],
      "metadata": {
        "colab": {
          "base_uri": "https://localhost:8080/"
        },
        "id": "rU4Xrdatg8r8",
        "outputId": "5703f343-76c5-470e-e171-b51b4dcb8c55"
      },
      "execution_count": null,
      "outputs": [
        {
          "output_type": "execute_result",
          "data": {
            "text/plain": [
              "(10, 6000, 200, 2)"
            ]
          },
          "metadata": {},
          "execution_count": 34
        }
      ]
    },
    {
      "cell_type": "code",
      "source": [
        "stories1[:, ::10].shape"
      ],
      "metadata": {
        "colab": {
          "base_uri": "https://localhost:8080/"
        },
        "id": "EmM_Y2MA1amP",
        "outputId": "98cb802b-85f6-459c-c26b-4b7534e2b6b9"
      },
      "execution_count": null,
      "outputs": [
        {
          "output_type": "execute_result",
          "data": {
            "text/plain": [
              "(10, 600, 200, 2)"
            ]
          },
          "metadata": {},
          "execution_count": 48
        }
      ]
    },
    {
      "cell_type": "code",
      "source": [
        "stories1[0][-1]"
      ],
      "metadata": {
        "id": "37hP3DWC1d_R"
      },
      "execution_count": null,
      "outputs": []
    },
    {
      "cell_type": "code",
      "source": [],
      "metadata": {
        "id": "BRt-jK922obL"
      },
      "execution_count": null,
      "outputs": []
    }
  ]
}